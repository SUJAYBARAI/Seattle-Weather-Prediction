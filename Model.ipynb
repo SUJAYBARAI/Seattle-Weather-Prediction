{
 "cells": [
  {
   "cell_type": "code",
   "execution_count": 19,
   "id": "70c19ab6-0d84-41dc-824e-8e1452aa9ca2",
   "metadata": {},
   "outputs": [
    {
     "name": "stdout",
     "output_type": "stream",
     "text": [
      "✅ Model trained successfully without month feature!\n",
      "📊 Accuracy: 75.09%\n",
      "\n",
      "Detailed Performance Report:\n",
      "              precision    recall  f1-score   support\n",
      "\n",
      "     drizzle       0.14      0.22      0.17         9\n",
      "         fog       0.15      0.16      0.16        25\n",
      "        rain       0.95      0.91      0.93       120\n",
      "        snow       0.40      0.25      0.31         8\n",
      "         sun       0.77      0.79      0.78       131\n",
      "\n",
      "    accuracy                           0.75       293\n",
      "   macro avg       0.48      0.47      0.47       293\n",
      "weighted avg       0.76      0.75      0.76       293\n",
      "\n",
      "\n",
      "🌤️ Weather Prediction Based on Basic Measurements\n",
      "--------------------------------------------------\n"
     ]
    },
    {
     "name": "stdin",
     "output_type": "stream",
     "text": [
      "Enter max temperature (°C):  4\n",
      "Enter min temperature (°C):  4\n",
      "Enter precipitation (inches):  4\n"
     ]
    },
    {
     "name": "stdout",
     "output_type": "stream",
     "text": [
      "\n",
      "🌈 Predicted Weather: rain\n"
     ]
    }
   ],
   "source": [
    "import pandas as pd\n",
    "from sklearn.model_selection import train_test_split\n",
    "from sklearn.preprocessing import StandardScaler, LabelEncoder\n",
    "from sklearn.ensemble import RandomForestClassifier\n",
    "from sklearn.metrics import accuracy_score, classification_report\n",
    "\n",
    "df = pd.read_csv(\"seattle-weather.csv\")\n",
    "df['date'] = pd.to_datetime(df['date'])\n",
    "\n",
    "feat = ['temp_max', 'temp_min', 'precipitation']\n",
    "X = df[feat]\n",
    "y = df['weather']\n",
    "\n",
    "le = LabelEncoder()\n",
    "yenc = le.fit_transform(y)\n",
    "\n",
    "Xtr, Xte, ytr, yte = train_test_split(X, yenc, test_size=0.2, random_state=42)\n",
    "\n",
    "scl = StandardScaler()\n",
    "Xtrs = scl.fit_transform(Xtr)\n",
    "Xtes = scl.transform(Xte)\n",
    "\n",
    "mod = RandomForestClassifier(n_estimators=200, max_depth=10, random_state=42, class_weight='balanced')\n",
    "mod.fit(Xtrs, ytr)\n",
    "\n",
    "ypred = mod.predict(Xtes)\n",
    "acc = accuracy_score(yte, ypred)\n",
    "print(\"✅ Model trained!\")\n",
    "print(f\"📊 Accuracy: {acc:.2%}\")\n",
    "print(\"\\nPerformance:\")\n",
    "print(classification_report(yte, ypred, target_names=le.classes_))\n",
    "\n",
    "def predict():\n",
    "    print(\"\\n🌤️ Weather Prediction\")\n",
    "    print(\"-------------------\")\n",
    "    tmax = float(input(\"Max temp (°C): \"))\n",
    "    tmin = float(input(\"Min temp (°C): \"))\n",
    "    prec = float(input(\"Precip (inches): \"))\n",
    "    \n",
    "    inp = [[tmax, tmin, prec]]\n",
    "    inps = scl.transform(inp)\n",
    "    pred = mod.predict(inps)[0]\n",
    "    \n",
    "    print(f\"\\n Prediction: {le.inverse_transform([pred])[0]}\")\n",
    "\n",
    "predict()"
   ]
  },
  {
   "cell_type": "code",
   "execution_count": null,
   "id": "5d826c13-4e94-4fec-be45-7dcbede580bb",
   "metadata": {},
   "outputs": [],
   "source": []
  }
 ],
 "metadata": {
  "kernelspec": {
   "display_name": "Python 3 (ipykernel)",
   "language": "python",
   "name": "python3"
  },
  "language_info": {
   "codemirror_mode": {
    "name": "ipython",
    "version": 3
   },
   "file_extension": ".py",
   "mimetype": "text/x-python",
   "name": "python",
   "nbconvert_exporter": "python",
   "pygments_lexer": "ipython3",
   "version": "3.12.4"
  }
 },
 "nbformat": 4,
 "nbformat_minor": 5
}
